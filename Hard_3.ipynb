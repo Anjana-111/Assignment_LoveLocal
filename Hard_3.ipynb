{
  "nbformat": 4,
  "nbformat_minor": 0,
  "metadata": {
    "colab": {
      "provenance": []
    },
    "kernelspec": {
      "name": "python3",
      "display_name": "Python 3"
    },
    "language_info": {
      "name": "python"
    }
  },
  "cells": [
    {
      "cell_type": "code",
      "execution_count": 3,
      "metadata": {
        "colab": {
          "base_uri": "https://localhost:8080/"
        },
        "id": "i47ppgedpggO",
        "outputId": "88cd888d-eeec-407c-fddf-0523e28f384a"
      },
      "outputs": [
        {
          "output_type": "stream",
          "name": "stdout",
          "text": [
            "0\n"
          ]
        }
      ],
      "source": [
        "def count_digit_one(n):\n",
        "    count = 0\n",
        "    for i in range(n + 1):\n",
        "        count += str(i).count('1')\n",
        "    return count\n",
        "\n",
        "n = 0\n",
        "output = count_digit_one(n)\n",
        "print(output)\n"
      ]
    }
  ]
}