{
  "nbformat": 4,
  "nbformat_minor": 0,
  "metadata": {
    "colab": {
      "provenance": []
    },
    "kernelspec": {
      "name": "python3",
      "display_name": "Python 3"
    },
    "language_info": {
      "name": "python"
    }
  },
  "cells": [
    {
      "cell_type": "code",
      "execution_count": null,
      "metadata": {
        "id": "6U4jWqay3gS9"
      },
      "outputs": [],
      "source": [
        "class TreeNode:\n",
        "    def __init__(self, val=0, left=None, right=None):\n",
        "        self.val = val\n",
        "        self.left = left\n",
        "        self.right = right\n",
        "\n",
        "def sortedArrayToBST(nums):\n",
        "    if not nums:\n",
        "        return None\n",
        "\n",
        "    mid = len(nums) // 2  # Find the middle index\n",
        "    root = TreeNode(nums[mid])  # Create a node with the middle element as the value\n",
        "\n",
        "    # Recursively build left and right subtrees\n",
        "    root.left = sortedArrayToBST(nums[:mid])  # Elements to the left of the middle go to the left subtree\n",
        "    root.right = sortedArrayToBST(nums[mid+1:])  # Elements to the right of the middle go to the right subtree\n",
        "\n",
        "    return root\n",
        "\n",
        "\n",
        "nums = [-10, -3, 0, 5, 9]\n",
        "result = sortedArrayToBST(nums)\n"
      ]
    }
  ]
}