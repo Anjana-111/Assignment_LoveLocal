{
  "nbformat": 4,
  "nbformat_minor": 0,
  "metadata": {
    "colab": {
      "provenance": []
    },
    "kernelspec": {
      "name": "python3",
      "display_name": "Python 3"
    },
    "language_info": {
      "name": "python"
    }
  },
  "cells": [
    {
      "cell_type": "code",
      "execution_count": 4,
      "metadata": {
        "colab": {
          "base_uri": "https://localhost:8080/"
        },
        "id": "MyqXh7TnksAE",
        "outputId": "52753859-7a39-4a59-ad9e-8134af503850"
      },
      "outputs": [
        {
          "output_type": "stream",
          "name": "stdout",
          "text": [
            "[1,2]\n",
            "[]\n"
          ]
        }
      ],
      "source": [
        "def majority_element(nums):\n",
        "    n = len(nums)\n",
        "    threshold = n // 3\n",
        "    count = {}\n",
        "    result = []\n",
        "\n",
        "    for num in nums:\n",
        "        if num in count:\n",
        "            count[num] += 1\n",
        "        else:\n",
        "            count[num] = 1\n",
        "\n",
        "        if count[num] > threshold and num not in result:\n",
        "            result.append(num)\n",
        "\n",
        "    return result\n",
        "\n",
        "\n",
        "nums = input()\n",
        "output = majority_element(nums)\n",
        "print(output)\n"
      ]
    }
  ]
}